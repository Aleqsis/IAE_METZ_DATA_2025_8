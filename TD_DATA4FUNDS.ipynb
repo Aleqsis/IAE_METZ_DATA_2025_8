{
  "nbformat": 4,
  "nbformat_minor": 0,
  "metadata": {
    "colab": {
      "provenance": [],
      "collapsed_sections": [
        "TlAxXzFxQyi2",
        "iSkWp3YecG_e"
      ],
      "authorship_tag": "ABX9TyPYuI5aJYwIBO+x/Cq65PxU",
      "include_colab_link": true
    },
    "kernelspec": {
      "name": "python3",
      "display_name": "Python 3"
    },
    "language_info": {
      "name": "python"
    }
  },
  "cells": [
    {
      "cell_type": "markdown",
      "metadata": {
        "id": "view-in-github",
        "colab_type": "text"
      },
      "source": [
        "<a href=\"https://colab.research.google.com/github/Aleqsis/IAE_METZ_DATA_2025_8/blob/main/TD_DATA4FUNDS.ipynb\" target=\"_parent\"><img src=\"https://colab.research.google.com/assets/colab-badge.svg\" alt=\"Open In Colab\"/></a>"
      ]
    },
    {
      "cell_type": "code",
      "execution_count": null,
      "metadata": {
        "colab": {
          "base_uri": "https://localhost:8080/"
        },
        "id": "i9ZAtlQunyfD",
        "outputId": "be24bc52-56c6-4ff4-b71c-098b16c93e81"
      },
      "outputs": [
        {
          "output_type": "stream",
          "name": "stdout",
          "text": [
            "Hello World!\n"
          ]
        }
      ],
      "source": [
        "#Premier code pour le cours de l'IAE Metz\n",
        "print(\"Hello World!\")"
      ]
    },
    {
      "cell_type": "markdown",
      "source": [
        "# Exemple simple"
      ],
      "metadata": {
        "id": "TlAxXzFxQyi2"
      }
    },
    {
      "cell_type": "code",
      "source": [
        "prenom = \"Alexis\" #string sont les textes\n",
        "Salaire = 57000 #integer sont les entiers naturels\n",
        "height = 1.7 #floats sont les chiffres à virgules\n",
        "\n",
        "print(prenom,Salaire,height)"
      ],
      "metadata": {
        "colab": {
          "base_uri": "https://localhost:8080/"
        },
        "id": "dMmNFtmzp0UW",
        "outputId": "d2b3d9e7-2bcb-45a1-8c2b-5c00bff28908"
      },
      "execution_count": null,
      "outputs": [
        {
          "output_type": "stream",
          "name": "stdout",
          "text": [
            "Alexis 57000 1.7\n"
          ]
        }
      ]
    },
    {
      "cell_type": "code",
      "source": [
        "print(f\"On dirait qu'{prenom} est seul, il gagne {Salaire} roubles\")"
      ],
      "metadata": {
        "colab": {
          "base_uri": "https://localhost:8080/"
        },
        "id": "t87u6ajYQ-3u",
        "outputId": "f96cf9d3-3541-4d34-d2d0-9322ac55248f"
      },
      "execution_count": null,
      "outputs": [
        {
          "output_type": "stream",
          "name": "stdout",
          "text": [
            "On dirait qu'Alexis est seul, il gagne 57000 roubles\n"
          ]
        }
      ]
    },
    {
      "cell_type": "code",
      "source": [
        "#Arithmétique\n",
        "valeur_1 = 10\n",
        "valeur_2 = 3\n",
        "\n",
        "a = 10\n",
        "b = 3"
      ],
      "metadata": {
        "id": "UIn4rbvXR8z3"
      },
      "execution_count": null,
      "outputs": []
    },
    {
      "cell_type": "code",
      "source": [
        "a, b = 10, 3\n",
        "print(f\"SUM: {a + b}, différences: {a - b}, produit: {a * b}, division: {a / b}\")"
      ],
      "metadata": {
        "colab": {
          "base_uri": "https://localhost:8080/"
        },
        "id": "T1xgNmuzSs-Z",
        "outputId": "eae174b2-d50e-41f9-9980-5f0de46530aa"
      },
      "execution_count": null,
      "outputs": [
        {
          "output_type": "stream",
          "name": "stdout",
          "text": [
            "SUM: 13, différences: 7, produit: 30, division: 3.3333333333333335\n"
          ]
        }
      ]
    },
    {
      "cell_type": "code",
      "source": [
        "print(f\"Division integer: {a // b}, Modulos: {a % b}, exponentielle: {a ** b}\")"
      ],
      "metadata": {
        "colab": {
          "base_uri": "https://localhost:8080/"
        },
        "id": "OLGPiPoGT805",
        "outputId": "c4708705-49f3-4fc1-e864-466c8cd139b1"
      },
      "execution_count": null,
      "outputs": [
        {
          "output_type": "stream",
          "name": "stdout",
          "text": [
            "Division integer: 3, Modulos: 1, exponentielle: 1000\n"
          ]
        }
      ]
    },
    {
      "cell_type": "code",
      "source": [
        "# LISTE\n",
        "fruits = [\"apple\", \"bananes\", \"fraises\"]\n",
        "fruits[0]"
      ],
      "metadata": {
        "colab": {
          "base_uri": "https://localhost:8080/",
          "height": 35
        },
        "id": "GRpNQm3_Uy6M",
        "outputId": "798f4a56-9533-480f-93ee-2fcba21193ab"
      },
      "execution_count": null,
      "outputs": [
        {
          "output_type": "execute_result",
          "data": {
            "text/plain": [
              "'apple'"
            ],
            "application/vnd.google.colaboratory.intrinsic+json": {
              "type": "string"
            }
          },
          "metadata": {},
          "execution_count": 18
        }
      ]
    },
    {
      "cell_type": "code",
      "source": [
        "# DICTIONNAIRE\n",
        "# Non-ordonné et paires clé-valeur. Uniques et immutables.\n",
        "# Dans la vraie vie qu'utilisons nous le plus ? Le dataframe (df)\n",
        "eleve = {\"nom\": \"ALEXIS\", \"age\": 24, \"city\": \"Grasse\"}\n",
        "print(f\"Salut je suis {eleve['nom']}, j'ai {eleve['age']} ans et je viens de {eleve['city']}\")"
      ],
      "metadata": {
        "colab": {
          "base_uri": "https://localhost:8080/"
        },
        "id": "KgROm79uWEul",
        "outputId": "ce7a4ffe-584c-46ab-8180-f9476af3c59c"
      },
      "execution_count": null,
      "outputs": [
        {
          "output_type": "stream",
          "name": "stdout",
          "text": [
            "Salut je suis ALEXIS, j'ai 24 ans et je viens de Grasse\n"
          ]
        }
      ]
    },
    {
      "cell_type": "code",
      "source": [
        "# La façon la plus courante de stocker des données en python est via un DATAFRAME.\n",
        "# PACKAGE\n",
        "\n",
        "import pandas as pd\n",
        "\n",
        "data = pd.DataFrame({'Date':['2020-01-01','2025-02-11'], 'FondsInvestLux':[10, 100], 'Amundi':[11, 13]})\n",
        "data"
      ],
      "metadata": {
        "colab": {
          "base_uri": "https://localhost:8080/",
          "height": 125
        },
        "id": "E8LoeUtgeiv4",
        "outputId": "c667f17a-cb48-4feb-b5f1-82f623801e7a"
      },
      "execution_count": null,
      "outputs": [
        {
          "output_type": "execute_result",
          "data": {
            "text/plain": [
              "         Date  FondsInvestLux  Amundi\n",
              "0  2020-01-01              10      11\n",
              "1  2025-02-11             100      13"
            ],
            "text/html": [
              "\n",
              "  <div id=\"df-2a5f2019-71d3-4cb4-bde6-0adec9c08b12\" class=\"colab-df-container\">\n",
              "    <div>\n",
              "<style scoped>\n",
              "    .dataframe tbody tr th:only-of-type {\n",
              "        vertical-align: middle;\n",
              "    }\n",
              "\n",
              "    .dataframe tbody tr th {\n",
              "        vertical-align: top;\n",
              "    }\n",
              "\n",
              "    .dataframe thead th {\n",
              "        text-align: right;\n",
              "    }\n",
              "</style>\n",
              "<table border=\"1\" class=\"dataframe\">\n",
              "  <thead>\n",
              "    <tr style=\"text-align: right;\">\n",
              "      <th></th>\n",
              "      <th>Date</th>\n",
              "      <th>FondsInvestLux</th>\n",
              "      <th>Amundi</th>\n",
              "    </tr>\n",
              "  </thead>\n",
              "  <tbody>\n",
              "    <tr>\n",
              "      <th>0</th>\n",
              "      <td>2020-01-01</td>\n",
              "      <td>10</td>\n",
              "      <td>11</td>\n",
              "    </tr>\n",
              "    <tr>\n",
              "      <th>1</th>\n",
              "      <td>2025-02-11</td>\n",
              "      <td>100</td>\n",
              "      <td>13</td>\n",
              "    </tr>\n",
              "  </tbody>\n",
              "</table>\n",
              "</div>\n",
              "    <div class=\"colab-df-buttons\">\n",
              "\n",
              "  <div class=\"colab-df-container\">\n",
              "    <button class=\"colab-df-convert\" onclick=\"convertToInteractive('df-2a5f2019-71d3-4cb4-bde6-0adec9c08b12')\"\n",
              "            title=\"Convert this dataframe to an interactive table.\"\n",
              "            style=\"display:none;\">\n",
              "\n",
              "  <svg xmlns=\"http://www.w3.org/2000/svg\" height=\"24px\" viewBox=\"0 -960 960 960\">\n",
              "    <path d=\"M120-120v-720h720v720H120Zm60-500h600v-160H180v160Zm220 220h160v-160H400v160Zm0 220h160v-160H400v160ZM180-400h160v-160H180v160Zm440 0h160v-160H620v160ZM180-180h160v-160H180v160Zm440 0h160v-160H620v160Z\"/>\n",
              "  </svg>\n",
              "    </button>\n",
              "\n",
              "  <style>\n",
              "    .colab-df-container {\n",
              "      display:flex;\n",
              "      gap: 12px;\n",
              "    }\n",
              "\n",
              "    .colab-df-convert {\n",
              "      background-color: #E8F0FE;\n",
              "      border: none;\n",
              "      border-radius: 50%;\n",
              "      cursor: pointer;\n",
              "      display: none;\n",
              "      fill: #1967D2;\n",
              "      height: 32px;\n",
              "      padding: 0 0 0 0;\n",
              "      width: 32px;\n",
              "    }\n",
              "\n",
              "    .colab-df-convert:hover {\n",
              "      background-color: #E2EBFA;\n",
              "      box-shadow: 0px 1px 2px rgba(60, 64, 67, 0.3), 0px 1px 3px 1px rgba(60, 64, 67, 0.15);\n",
              "      fill: #174EA6;\n",
              "    }\n",
              "\n",
              "    .colab-df-buttons div {\n",
              "      margin-bottom: 4px;\n",
              "    }\n",
              "\n",
              "    [theme=dark] .colab-df-convert {\n",
              "      background-color: #3B4455;\n",
              "      fill: #D2E3FC;\n",
              "    }\n",
              "\n",
              "    [theme=dark] .colab-df-convert:hover {\n",
              "      background-color: #434B5C;\n",
              "      box-shadow: 0px 1px 3px 1px rgba(0, 0, 0, 0.15);\n",
              "      filter: drop-shadow(0px 1px 2px rgba(0, 0, 0, 0.3));\n",
              "      fill: #FFFFFF;\n",
              "    }\n",
              "  </style>\n",
              "\n",
              "    <script>\n",
              "      const buttonEl =\n",
              "        document.querySelector('#df-2a5f2019-71d3-4cb4-bde6-0adec9c08b12 button.colab-df-convert');\n",
              "      buttonEl.style.display =\n",
              "        google.colab.kernel.accessAllowed ? 'block' : 'none';\n",
              "\n",
              "      async function convertToInteractive(key) {\n",
              "        const element = document.querySelector('#df-2a5f2019-71d3-4cb4-bde6-0adec9c08b12');\n",
              "        const dataTable =\n",
              "          await google.colab.kernel.invokeFunction('convertToInteractive',\n",
              "                                                    [key], {});\n",
              "        if (!dataTable) return;\n",
              "\n",
              "        const docLinkHtml = 'Like what you see? Visit the ' +\n",
              "          '<a target=\"_blank\" href=https://colab.research.google.com/notebooks/data_table.ipynb>data table notebook</a>'\n",
              "          + ' to learn more about interactive tables.';\n",
              "        element.innerHTML = '';\n",
              "        dataTable['output_type'] = 'display_data';\n",
              "        await google.colab.output.renderOutput(dataTable, element);\n",
              "        const docLink = document.createElement('div');\n",
              "        docLink.innerHTML = docLinkHtml;\n",
              "        element.appendChild(docLink);\n",
              "      }\n",
              "    </script>\n",
              "  </div>\n",
              "\n",
              "\n",
              "<div id=\"df-9b269e19-3757-4fad-b2d7-6a63c0f1d1e8\">\n",
              "  <button class=\"colab-df-quickchart\" onclick=\"quickchart('df-9b269e19-3757-4fad-b2d7-6a63c0f1d1e8')\"\n",
              "            title=\"Suggest charts\"\n",
              "            style=\"display:none;\">\n",
              "\n",
              "<svg xmlns=\"http://www.w3.org/2000/svg\" height=\"24px\"viewBox=\"0 0 24 24\"\n",
              "     width=\"24px\">\n",
              "    <g>\n",
              "        <path d=\"M19 3H5c-1.1 0-2 .9-2 2v14c0 1.1.9 2 2 2h14c1.1 0 2-.9 2-2V5c0-1.1-.9-2-2-2zM9 17H7v-7h2v7zm4 0h-2V7h2v10zm4 0h-2v-4h2v4z\"/>\n",
              "    </g>\n",
              "</svg>\n",
              "  </button>\n",
              "\n",
              "<style>\n",
              "  .colab-df-quickchart {\n",
              "      --bg-color: #E8F0FE;\n",
              "      --fill-color: #1967D2;\n",
              "      --hover-bg-color: #E2EBFA;\n",
              "      --hover-fill-color: #174EA6;\n",
              "      --disabled-fill-color: #AAA;\n",
              "      --disabled-bg-color: #DDD;\n",
              "  }\n",
              "\n",
              "  [theme=dark] .colab-df-quickchart {\n",
              "      --bg-color: #3B4455;\n",
              "      --fill-color: #D2E3FC;\n",
              "      --hover-bg-color: #434B5C;\n",
              "      --hover-fill-color: #FFFFFF;\n",
              "      --disabled-bg-color: #3B4455;\n",
              "      --disabled-fill-color: #666;\n",
              "  }\n",
              "\n",
              "  .colab-df-quickchart {\n",
              "    background-color: var(--bg-color);\n",
              "    border: none;\n",
              "    border-radius: 50%;\n",
              "    cursor: pointer;\n",
              "    display: none;\n",
              "    fill: var(--fill-color);\n",
              "    height: 32px;\n",
              "    padding: 0;\n",
              "    width: 32px;\n",
              "  }\n",
              "\n",
              "  .colab-df-quickchart:hover {\n",
              "    background-color: var(--hover-bg-color);\n",
              "    box-shadow: 0 1px 2px rgba(60, 64, 67, 0.3), 0 1px 3px 1px rgba(60, 64, 67, 0.15);\n",
              "    fill: var(--button-hover-fill-color);\n",
              "  }\n",
              "\n",
              "  .colab-df-quickchart-complete:disabled,\n",
              "  .colab-df-quickchart-complete:disabled:hover {\n",
              "    background-color: var(--disabled-bg-color);\n",
              "    fill: var(--disabled-fill-color);\n",
              "    box-shadow: none;\n",
              "  }\n",
              "\n",
              "  .colab-df-spinner {\n",
              "    border: 2px solid var(--fill-color);\n",
              "    border-color: transparent;\n",
              "    border-bottom-color: var(--fill-color);\n",
              "    animation:\n",
              "      spin 1s steps(1) infinite;\n",
              "  }\n",
              "\n",
              "  @keyframes spin {\n",
              "    0% {\n",
              "      border-color: transparent;\n",
              "      border-bottom-color: var(--fill-color);\n",
              "      border-left-color: var(--fill-color);\n",
              "    }\n",
              "    20% {\n",
              "      border-color: transparent;\n",
              "      border-left-color: var(--fill-color);\n",
              "      border-top-color: var(--fill-color);\n",
              "    }\n",
              "    30% {\n",
              "      border-color: transparent;\n",
              "      border-left-color: var(--fill-color);\n",
              "      border-top-color: var(--fill-color);\n",
              "      border-right-color: var(--fill-color);\n",
              "    }\n",
              "    40% {\n",
              "      border-color: transparent;\n",
              "      border-right-color: var(--fill-color);\n",
              "      border-top-color: var(--fill-color);\n",
              "    }\n",
              "    60% {\n",
              "      border-color: transparent;\n",
              "      border-right-color: var(--fill-color);\n",
              "    }\n",
              "    80% {\n",
              "      border-color: transparent;\n",
              "      border-right-color: var(--fill-color);\n",
              "      border-bottom-color: var(--fill-color);\n",
              "    }\n",
              "    90% {\n",
              "      border-color: transparent;\n",
              "      border-bottom-color: var(--fill-color);\n",
              "    }\n",
              "  }\n",
              "</style>\n",
              "\n",
              "  <script>\n",
              "    async function quickchart(key) {\n",
              "      const quickchartButtonEl =\n",
              "        document.querySelector('#' + key + ' button');\n",
              "      quickchartButtonEl.disabled = true;  // To prevent multiple clicks.\n",
              "      quickchartButtonEl.classList.add('colab-df-spinner');\n",
              "      try {\n",
              "        const charts = await google.colab.kernel.invokeFunction(\n",
              "            'suggestCharts', [key], {});\n",
              "      } catch (error) {\n",
              "        console.error('Error during call to suggestCharts:', error);\n",
              "      }\n",
              "      quickchartButtonEl.classList.remove('colab-df-spinner');\n",
              "      quickchartButtonEl.classList.add('colab-df-quickchart-complete');\n",
              "    }\n",
              "    (() => {\n",
              "      let quickchartButtonEl =\n",
              "        document.querySelector('#df-9b269e19-3757-4fad-b2d7-6a63c0f1d1e8 button');\n",
              "      quickchartButtonEl.style.display =\n",
              "        google.colab.kernel.accessAllowed ? 'block' : 'none';\n",
              "    })();\n",
              "  </script>\n",
              "</div>\n",
              "\n",
              "  <div id=\"id_11f16440-7d7f-4df2-ad14-7fa33ba11da9\">\n",
              "    <style>\n",
              "      .colab-df-generate {\n",
              "        background-color: #E8F0FE;\n",
              "        border: none;\n",
              "        border-radius: 50%;\n",
              "        cursor: pointer;\n",
              "        display: none;\n",
              "        fill: #1967D2;\n",
              "        height: 32px;\n",
              "        padding: 0 0 0 0;\n",
              "        width: 32px;\n",
              "      }\n",
              "\n",
              "      .colab-df-generate:hover {\n",
              "        background-color: #E2EBFA;\n",
              "        box-shadow: 0px 1px 2px rgba(60, 64, 67, 0.3), 0px 1px 3px 1px rgba(60, 64, 67, 0.15);\n",
              "        fill: #174EA6;\n",
              "      }\n",
              "\n",
              "      [theme=dark] .colab-df-generate {\n",
              "        background-color: #3B4455;\n",
              "        fill: #D2E3FC;\n",
              "      }\n",
              "\n",
              "      [theme=dark] .colab-df-generate:hover {\n",
              "        background-color: #434B5C;\n",
              "        box-shadow: 0px 1px 3px 1px rgba(0, 0, 0, 0.15);\n",
              "        filter: drop-shadow(0px 1px 2px rgba(0, 0, 0, 0.3));\n",
              "        fill: #FFFFFF;\n",
              "      }\n",
              "    </style>\n",
              "    <button class=\"colab-df-generate\" onclick=\"generateWithVariable('data')\"\n",
              "            title=\"Generate code using this dataframe.\"\n",
              "            style=\"display:none;\">\n",
              "\n",
              "  <svg xmlns=\"http://www.w3.org/2000/svg\" height=\"24px\"viewBox=\"0 0 24 24\"\n",
              "       width=\"24px\">\n",
              "    <path d=\"M7,19H8.4L18.45,9,17,7.55,7,17.6ZM5,21V16.75L18.45,3.32a2,2,0,0,1,2.83,0l1.4,1.43a1.91,1.91,0,0,1,.58,1.4,1.91,1.91,0,0,1-.58,1.4L9.25,21ZM18.45,9,17,7.55Zm-12,3A5.31,5.31,0,0,0,4.9,8.1,5.31,5.31,0,0,0,1,6.5,5.31,5.31,0,0,0,4.9,4.9,5.31,5.31,0,0,0,6.5,1,5.31,5.31,0,0,0,8.1,4.9,5.31,5.31,0,0,0,12,6.5,5.46,5.46,0,0,0,6.5,12Z\"/>\n",
              "  </svg>\n",
              "    </button>\n",
              "    <script>\n",
              "      (() => {\n",
              "      const buttonEl =\n",
              "        document.querySelector('#id_11f16440-7d7f-4df2-ad14-7fa33ba11da9 button.colab-df-generate');\n",
              "      buttonEl.style.display =\n",
              "        google.colab.kernel.accessAllowed ? 'block' : 'none';\n",
              "\n",
              "      buttonEl.onclick = () => {\n",
              "        google.colab.notebook.generateWithVariable('data');\n",
              "      }\n",
              "      })();\n",
              "    </script>\n",
              "  </div>\n",
              "\n",
              "    </div>\n",
              "  </div>\n"
            ],
            "application/vnd.google.colaboratory.intrinsic+json": {
              "type": "dataframe",
              "variable_name": "data",
              "summary": "{\n  \"name\": \"data\",\n  \"rows\": 2,\n  \"fields\": [\n    {\n      \"column\": \"Date\",\n      \"properties\": {\n        \"dtype\": \"object\",\n        \"num_unique_values\": 2,\n        \"samples\": [\n          \"2025-02-11\",\n          \"2020-01-01\"\n        ],\n        \"semantic_type\": \"\",\n        \"description\": \"\"\n      }\n    },\n    {\n      \"column\": \"FondsInvestLux\",\n      \"properties\": {\n        \"dtype\": \"number\",\n        \"std\": 63,\n        \"min\": 10,\n        \"max\": 100,\n        \"num_unique_values\": 2,\n        \"samples\": [\n          100,\n          10\n        ],\n        \"semantic_type\": \"\",\n        \"description\": \"\"\n      }\n    },\n    {\n      \"column\": \"Amundi\",\n      \"properties\": {\n        \"dtype\": \"number\",\n        \"std\": 1,\n        \"min\": 11,\n        \"max\": 13,\n        \"num_unique_values\": 2,\n        \"samples\": [\n          13,\n          11\n        ],\n        \"semantic_type\": \"\",\n        \"description\": \"\"\n      }\n    }\n  ]\n}"
            }
          },
          "metadata": {},
          "execution_count": 35
        }
      ]
    },
    {
      "cell_type": "code",
      "source": [
        "# Fonctions et boucles basiques à connaitre\n",
        "\n",
        "if note > 10:\n",
        "  print(\"J'ai plus que la moyenne\")\n",
        "elif note < 10:\n",
        "  print(\"J'ai pas la moyenne\")\n",
        "else: # il faut savoir cloturer certaines boucles\n",
        "  print(\"j'ai pile la moyenne\")"
      ],
      "metadata": {
        "colab": {
          "base_uri": "https://localhost:8080/"
        },
        "id": "7ZgHP252guIo",
        "outputId": "f1d3289e-a831-4506-c97b-a4947595bd21"
      },
      "execution_count": null,
      "outputs": [
        {
          "output_type": "stream",
          "name": "stdout",
          "text": [
            "J'ai plus que la moyenne\n"
          ]
        }
      ]
    },
    {
      "cell_type": "code",
      "source": [
        "note = float(input(\"Entrez un nombre: \"))"
      ],
      "metadata": {
        "colab": {
          "base_uri": "https://localhost:8080/"
        },
        "id": "MEivlG3pii9w",
        "outputId": "0d72e81f-3718-4626-c7f3-667733553bbd"
      },
      "execution_count": null,
      "outputs": [
        {
          "name": "stdout",
          "output_type": "stream",
          "text": [
            "Entrez un nombre: 14.75\n"
          ]
        }
      ]
    },
    {
      "cell_type": "code",
      "source": [
        "# Boucle simple\n",
        "\n",
        "for i in range(5):\n",
        "  print(f\"Boucle avec x itérations de {i}\")"
      ],
      "metadata": {
        "colab": {
          "base_uri": "https://localhost:8080/"
        },
        "id": "nBTFHFHljqSB",
        "outputId": "1c9bc458-1b3b-4319-c732-6dc1d09338d6"
      },
      "execution_count": null,
      "outputs": [
        {
          "output_type": "stream",
          "name": "stdout",
          "text": [
            "Boucle avec x itérations de 0\n",
            "Boucle avec x itérations de 1\n",
            "Boucle avec x itérations de 2\n",
            "Boucle avec x itérations de 3\n",
            "Boucle avec x itérations de 4\n"
          ]
        }
      ]
    },
    {
      "cell_type": "code",
      "source": [
        "#Boucle plus complexe : WHILE qui est une boucle conditionnelle\n",
        "count = 0"
      ],
      "metadata": {
        "id": "rlxOare2kEg6"
      },
      "execution_count": null,
      "outputs": []
    },
    {
      "cell_type": "code",
      "source": [
        "while count < 3:\n",
        "  print(f\"Count: {count}\")\n",
        "  count += 1"
      ],
      "metadata": {
        "colab": {
          "base_uri": "https://localhost:8080/"
        },
        "id": "GJTvkBjykOQF",
        "outputId": "305acc2c-8443-4db3-fa60-5f5e302039c0"
      },
      "execution_count": null,
      "outputs": [
        {
          "output_type": "stream",
          "name": "stdout",
          "text": [
            "Count: 0\n",
            "Count: 1\n",
            "Count: 2\n"
          ]
        }
      ]
    },
    {
      "cell_type": "code",
      "source": [
        "# Les bases des fonctions\n",
        "\n",
        "def greetings(nom, greeting=\"Hello\"):\n",
        "  return f\" {greeting}, {nom} !!!\"\n",
        "\n",
        "print(greetings(\"Jade\"))\n",
        "print(greetings(\"Alexis\", \"Bonjour\"))"
      ],
      "metadata": {
        "colab": {
          "base_uri": "https://localhost:8080/"
        },
        "id": "602y3Zrrk8H6",
        "outputId": "426a3161-b8a4-4803-f1bb-c6ff16a91b53"
      },
      "execution_count": null,
      "outputs": [
        {
          "output_type": "stream",
          "name": "stdout",
          "text": [
            " Hello, Jade !!!\n",
            " Bonjour, Alexis !!!\n"
          ]
        }
      ]
    },
    {
      "cell_type": "code",
      "source": [
        "#Cellule des variables\n",
        "revenus = 100000\n",
        "depenses = 75000\n",
        "taux_imposition_francais = 0.27\n",
        "taux_imposition_luxembourgeois = 0.17\n",
        "taux_imposition_irlande = 0.125"
      ],
      "metadata": {
        "id": "mwbqzSu4XoOg"
      },
      "execution_count": null,
      "outputs": []
    },
    {
      "cell_type": "code",
      "source": [
        "#Cellule des calculs\n",
        "benefice = revenus - depenses\n",
        "impot_en_france = benefice * taux_imposition_francais\n",
        "impot_en_luxembourg = benefice * taux_imposition_luxembourgeois\n",
        "impot_en_irlande = benefice * taux_imposition_irlande\n",
        "benefice_net_fr = benefice - impot_en_france"
      ],
      "metadata": {
        "id": "gP92mCLDYI1x"
      },
      "execution_count": null,
      "outputs": []
    },
    {
      "cell_type": "code",
      "source": [
        "#Cellule des checks/prints : calcul en direct\n",
        "print(\"Impot à payer en France\", taux_imposition_francais * benefice)"
      ],
      "metadata": {
        "colab": {
          "base_uri": "https://localhost:8080/"
        },
        "id": "hjgqGAG0ZRAT",
        "outputId": "2829ace6-efef-41eb-8a76-3873fcc80afa"
      },
      "execution_count": null,
      "outputs": [
        {
          "output_type": "stream",
          "name": "stdout",
          "text": [
            "Impot à payer en France 6750.0\n"
          ]
        }
      ]
    },
    {
      "cell_type": "code",
      "source": [
        "#Cellule des checks/prints : calcul préparé en amont\n",
        "print(\"Impot à payer en France\", impot_en_france, \"euros\")"
      ],
      "metadata": {
        "colab": {
          "base_uri": "https://localhost:8080/"
        },
        "id": "VfU5KaLtZjA_",
        "outputId": "47722028-b6ba-482b-ea3c-fa499af6eb62"
      },
      "execution_count": null,
      "outputs": [
        {
          "output_type": "stream",
          "name": "stdout",
          "text": [
            "Impot à payer en France 6750.0 euros\n"
          ]
        }
      ]
    },
    {
      "cell_type": "code",
      "source": [
        "#Comparaison entre Irlande et Luxembourg\n",
        "print(\"On compare au Luxembourg\", taux_imposition_luxembourgeois*benefice, \"euros\",\"vs en Irlande\", taux_imposition_irlande*benefice)"
      ],
      "metadata": {
        "colab": {
          "base_uri": "https://localhost:8080/"
        },
        "id": "pZXfe8bQZubl",
        "outputId": "12bf65a8-9ce9-423b-a428-a9916eb4cddf"
      },
      "execution_count": null,
      "outputs": [
        {
          "output_type": "stream",
          "name": "stdout",
          "text": [
            "On compare au Luxembourg 4250.0 euros vs en Irlande 3125.0\n"
          ]
        }
      ]
    },
    {
      "cell_type": "code",
      "source": [
        "#Conditions (if, elif, else)\n",
        "if benefice_net_fr > 0:\n",
        "  print(\"L'entreprise réalise un bénéfice net. Un bénéfice de\", benefice_net_fr, \"euros\")\n",
        "elif benefice_net_fr == 0:\n",
        "  print(\"L'entreprise est à l'équilibre\")\n",
        "else:\n",
        "  print (\"L'entreprise réalise une perte nette\")"
      ],
      "metadata": {
        "colab": {
          "base_uri": "https://localhost:8080/"
        },
        "id": "TdsaMVJ5a0eV",
        "outputId": "0abefb5a-930e-4eec-a2a3-c68d9f4981c1"
      },
      "execution_count": null,
      "outputs": [
        {
          "output_type": "stream",
          "name": "stdout",
          "text": [
            "L'entreprise réalise un bénéfice net. Un bénéfice de 18250.0 euros\n"
          ]
        }
      ]
    },
    {
      "cell_type": "code",
      "source": [
        "# Utilisation du travail des autres (packages)\n"
      ],
      "metadata": {
        "id": "19_d7__UbWcV"
      },
      "execution_count": null,
      "outputs": []
    },
    {
      "cell_type": "markdown",
      "source": [
        "# IMPORTATION des BIBLIOTHEQUES\n",
        "\n",
        "Les packages se différencient en 2 grandes catégories.\n",
        "\n",
        "\n",
        "1.   Ceux \"outils\" : donc contenant des fonctions\n",
        "2.   Ceux \"de données\" : contenant des données/valeurs\n",
        "\n"
      ],
      "metadata": {
        "id": "iSkWp3YecG_e"
      }
    },
    {
      "cell_type": "code",
      "source": [
        "# Le package d'outils le plus répandu en Python est PANDAS (il y a aussi POLARS)\n",
        "\n",
        "import pandas as pd"
      ],
      "metadata": {
        "id": "wsA0fU0vcMCt"
      },
      "execution_count": null,
      "outputs": []
    },
    {
      "cell_type": "code",
      "source": [
        "# Le package \"données\" le plus répandu en Python x FINANCE est ... Yahoo! Finance\n",
        "\n",
        "import yfinance as yf"
      ],
      "metadata": {
        "id": "qmoGGM05dA_e"
      },
      "execution_count": null,
      "outputs": []
    },
    {
      "cell_type": "code",
      "source": [
        "#Bonne façon de faire, BLOCKS : IMPORTATION DES PACKAGES\n",
        "import pandas as pd\n",
        "import yfinance as yf\n",
        "import matplotlib.pyplot as plt # Dans les packages \"outils\", on peut sous sélectionner le chapitre"
      ],
      "metadata": {
        "id": "x3TxMo81d7z4"
      },
      "execution_count": null,
      "outputs": []
    },
    {
      "cell_type": "code",
      "source": [
        "# BLOCK : VARIABLES\n",
        "# Pour une comparaison d'indices selon les pays\n",
        "france_symbol = 'EWQ' #iShares MSCI France ETF\n",
        "ireland_symbol = 'EWK' #iShares MSCI Ireland ETF\n",
        "luxembourg_symbol = 'SPY' #SP500"
      ],
      "metadata": {
        "id": "idwvCM-VeXnD"
      },
      "execution_count": null,
      "outputs": []
    },
    {
      "cell_type": "code",
      "source": [
        "# BLOCK : TIME FRAME\n",
        "start_date = '2010-01-01'\n",
        "end_date = '2025-01-01'"
      ],
      "metadata": {
        "id": "k4faFwcie1Zw"
      },
      "execution_count": null,
      "outputs": []
    },
    {
      "cell_type": "code",
      "source": [
        "# Téléchargement des données historiques de YFINANCE pour chaque pays\n",
        "\n",
        "france_data = yf.download(france_symbol, start=start_date, end=end_date)\n",
        "ireland_data = yf.download(ireland_symbol, start=start_date, end=end_date)\n",
        "luxembourg_data = yf.download(luxembourg_symbol, start=start_date, end=end_date)"
      ],
      "metadata": {
        "id": "eohwsSvgfQd1",
        "colab": {
          "base_uri": "https://localhost:8080/"
        },
        "outputId": "12dae345-2f09-4dff-ee00-308029725bf3"
      },
      "execution_count": null,
      "outputs": [
        {
          "output_type": "stream",
          "name": "stderr",
          "text": [
            "[*********************100%***********************]  1 of 1 completed\n",
            "[*********************100%***********************]  1 of 1 completed\n",
            "[*********************100%***********************]  1 of 1 completed\n"
          ]
        }
      ]
    },
    {
      "cell_type": "code",
      "source": [
        "print(france_data)"
      ],
      "metadata": {
        "colab": {
          "base_uri": "https://localhost:8080/"
        },
        "id": "9ufpWxP5hf-M",
        "outputId": "6a875bc3-8140-4635-b6bf-f514fc8be466"
      },
      "execution_count": null,
      "outputs": [
        {
          "output_type": "stream",
          "name": "stdout",
          "text": [
            "Price           Close       High        Low       Open  Volume\n",
            "Ticker            EWQ        EWQ        EWQ        EWQ     EWQ\n",
            "Date                                                          \n",
            "2010-01-04  17.787552  17.827419  17.641370  17.641370   97400\n",
            "2010-01-05  17.741037  17.867284  17.674591  17.847351  164100\n",
            "2010-01-06  17.834063  17.840707  17.687882  17.734394  117300\n",
            "2010-01-07  17.754322  17.787546  17.634721  17.648009   87500\n",
            "2010-01-08  18.000179  18.006824  17.760974  17.787553  155400\n",
            "...               ...        ...        ...        ...     ...\n",
            "2024-12-24  35.970001  36.009998  35.619999  35.730000  187100\n",
            "2024-12-26  36.119999  36.200001  35.939999  35.959999  216600\n",
            "2024-12-27  36.060001  36.139999  35.900002  35.959999  758900\n",
            "2024-12-30  35.810001  35.910000  35.650002  35.900002  361400\n",
            "2024-12-31  35.880001  36.169998  35.799999  36.169998  401800\n",
            "\n",
            "[3774 rows x 5 columns]\n"
          ]
        }
      ]
    },
    {
      "cell_type": "code",
      "source": [
        "# BLOCK : ANALYSE DES DATAFRAMES\n",
        "# Il y a des jours fériés donc il y a des valeurs nulles\n",
        "france_data.isnull().sum() #-> voir les valeurs nulles dans les valeurs\n",
        "ireland_data.isnull().sum()\n",
        "luxembourg_data.isnull().sum()"
      ],
      "metadata": {
        "colab": {
          "base_uri": "https://localhost:8080/",
          "height": 269
        },
        "id": "FUEneLIKiYx6",
        "outputId": "3adfde78-720f-4598-cd22-abb93b605649"
      },
      "execution_count": null,
      "outputs": [
        {
          "output_type": "execute_result",
          "data": {
            "text/plain": [
              "Price   Ticker\n",
              "Close   EWQ       0\n",
              "High    EWQ       0\n",
              "Low     EWQ       0\n",
              "Open    EWQ       0\n",
              "Volume  EWQ       0\n",
              "dtype: int64"
            ],
            "text/html": [
              "<div>\n",
              "<style scoped>\n",
              "    .dataframe tbody tr th:only-of-type {\n",
              "        vertical-align: middle;\n",
              "    }\n",
              "\n",
              "    .dataframe tbody tr th {\n",
              "        vertical-align: top;\n",
              "    }\n",
              "\n",
              "    .dataframe thead th {\n",
              "        text-align: right;\n",
              "    }\n",
              "</style>\n",
              "<table border=\"1\" class=\"dataframe\">\n",
              "  <thead>\n",
              "    <tr style=\"text-align: right;\">\n",
              "      <th></th>\n",
              "      <th></th>\n",
              "      <th>0</th>\n",
              "    </tr>\n",
              "    <tr>\n",
              "      <th>Price</th>\n",
              "      <th>Ticker</th>\n",
              "      <th></th>\n",
              "    </tr>\n",
              "  </thead>\n",
              "  <tbody>\n",
              "    <tr>\n",
              "      <th>Close</th>\n",
              "      <th>EWQ</th>\n",
              "      <td>0</td>\n",
              "    </tr>\n",
              "    <tr>\n",
              "      <th>High</th>\n",
              "      <th>EWQ</th>\n",
              "      <td>0</td>\n",
              "    </tr>\n",
              "    <tr>\n",
              "      <th>Low</th>\n",
              "      <th>EWQ</th>\n",
              "      <td>0</td>\n",
              "    </tr>\n",
              "    <tr>\n",
              "      <th>Open</th>\n",
              "      <th>EWQ</th>\n",
              "      <td>0</td>\n",
              "    </tr>\n",
              "    <tr>\n",
              "      <th>Volume</th>\n",
              "      <th>EWQ</th>\n",
              "      <td>0</td>\n",
              "    </tr>\n",
              "  </tbody>\n",
              "</table>\n",
              "</div><br><label><b>dtype:</b> int64</label>"
            ]
          },
          "metadata": {},
          "execution_count": 39
        }
      ]
    },
    {
      "cell_type": "code",
      "source": [
        "# Calcul des rendements quotidiens\n",
        "france_return = france_data.pct_change().dropna()\n",
        "ireland_return = ireland_data.pct_change().dropna()\n",
        "luxembourg_return = luxembourg_data.pct_change().dropna()\n",
        "print(france_return, ireland_return,luxembourg_return)"
      ],
      "metadata": {
        "colab": {
          "base_uri": "https://localhost:8080/"
        },
        "id": "a-XOZYQ3jGK-",
        "outputId": "2c386eec-1d79-4776-e618-dbf0ffa62cc8"
      },
      "execution_count": null,
      "outputs": [
        {
          "output_type": "stream",
          "name": "stdout",
          "text": [
            "Price          Close      High       Low      Open    Volume\n",
            "Ticker           EWQ       EWQ       EWQ       EWQ       EWQ\n",
            "Date                                                        \n",
            "2010-01-05 -0.002615  0.002236  0.001883  0.011676  0.684805\n",
            "2010-01-06  0.005244 -0.001487  0.000752 -0.006329 -0.285192\n",
            "2010-01-07 -0.004471 -0.002980 -0.003006 -0.004871 -0.254049\n",
            "2010-01-08  0.013848  0.012328  0.007159  0.007907  0.776000\n",
            "2010-01-11  0.008490  0.008118  0.015712  0.019798 -0.223938\n",
            "...              ...       ...       ...       ...       ...\n",
            "2024-12-24  0.006154  0.006428  0.003946  0.003370 -0.246779\n",
            "2024-12-26  0.004170  0.005276  0.008984  0.006437  0.157670\n",
            "2024-12-27 -0.001661 -0.001657 -0.001113  0.000000  2.503693\n",
            "2024-12-30 -0.006933 -0.006364 -0.006964 -0.001668 -0.523784\n",
            "2024-12-31  0.001955  0.007240  0.004208  0.007521  0.111787\n",
            "\n",
            "[3773 rows x 5 columns] Price          Close      High           Low      Open    Volume\n",
            "Ticker           EWK       EWK           EWK       EWK       EWK\n",
            "Date                                                            \n",
            "2010-01-05  0.012102  0.005992  1.296673e-02  0.018306  0.370978\n",
            "2010-01-06  0.005979  0.002234  7.534497e-04 -0.004494 -0.841010\n",
            "2010-01-07 -0.006686 -0.004458  7.526350e-04  0.006020 -0.359331\n",
            "2010-01-08  0.004488  0.004478 -1.025197e-07 -0.005236  7.515217\n",
            "2010-01-11  0.007446  0.006686  1.428564e-02  0.015038 -0.802400\n",
            "...              ...       ...           ...       ...       ...\n",
            "2024-12-24  0.002728  0.003273  9.345798e-03  0.007123 -0.342105\n",
            "2024-12-26  0.003809  0.003806  1.633920e-03  0.001632  0.440000\n",
            "2024-12-27 -0.002168  0.000000 -5.437863e-04 -0.001086  0.527778\n",
            "2024-12-30 -0.009234 -0.009209 -1.142541e-02 -0.007069  0.145455\n",
            "2024-12-31  0.002741  0.002734  3.302117e-03  0.004381  0.365079\n",
            "\n",
            "[3773 rows x 5 columns] Price          Close      High       Low      Open    Volume\n",
            "Ticker           SPY       SPY       SPY       SPY       SPY\n",
            "Date                                                        \n",
            "2010-01-05  0.002647  0.002557  0.012017  0.007920 -0.061917\n",
            "2010-01-06  0.000704  0.002727  0.005140  0.002296  0.040281\n",
            "2010-01-07  0.004221  0.002983 -0.002204 -0.000176  0.129371\n",
            "2010-01-08  0.003328  0.002537  0.004241  0.003436 -0.035764\n",
            "2010-01-11  0.001397  0.004450  0.005103  0.010449 -0.158439\n",
            "...              ...       ...       ...       ...       ...\n",
            "2024-12-24  0.011115  0.010146  0.013290  0.008749 -0.424661\n",
            "2024-12-26  0.000067  0.001896  0.004383  0.005771  0.243033\n",
            "2024-12-27 -0.010527 -0.007801 -0.012239 -0.003269  0.576194\n",
            "2024-12-30 -0.011412 -0.010104 -0.010749 -0.016149 -0.129146\n",
            "2024-12-31 -0.003638 -0.001859  0.000017  0.003436  0.008376\n",
            "\n",
            "[3773 rows x 5 columns]\n"
          ]
        }
      ]
    },
    {
      "cell_type": "code",
      "source": [
        "# Calcul de la rentabilité cumulée des fonds sur une période\n",
        "france_cum_return = (1 + france_return).cumprod() - 1\n",
        "ireland_cum_return = (1 + ireland_return).cumprod() - 1\n",
        "luxembourg_cum_return = (1 + luxembourg_return).cumprod() - 1\n",
        "print(france_cum_return, ireland_cum_return, luxembourg_cum_return)"
      ],
      "metadata": {
        "colab": {
          "base_uri": "https://localhost:8080/"
        },
        "id": "ksxnPpOAkhyT",
        "outputId": "e98f929e-02db-495d-cf68-5f53c6e84d51"
      },
      "execution_count": null,
      "outputs": [
        {
          "output_type": "stream",
          "name": "stdout",
          "text": [
            "Price          Close      High       Low      Open    Volume\n",
            "Ticker           EWQ       EWQ       EWQ       EWQ       EWQ\n",
            "Date                                                        \n",
            "2010-01-05 -0.002615  0.002236  0.001883  0.011676  0.684805\n",
            "2010-01-06  0.002615  0.000745  0.002637  0.005273  0.204312\n",
            "2010-01-07 -0.001868 -0.002237 -0.000377  0.000376 -0.101643\n",
            "2010-01-08  0.011954  0.010063  0.006780  0.008286  0.595483\n",
            "2010-01-11  0.020545  0.018263  0.022599  0.028248  0.238193\n",
            "...              ...       ...       ...       ...       ...\n",
            "2024-12-24  1.022201  1.019922  1.019117  1.025353  0.920945\n",
            "2024-12-26  1.030634  1.030580  1.037257  1.038390  1.223819\n",
            "2024-12-27  1.027261  1.027214  1.034989  1.038390  6.791581\n",
            "2024-12-30  1.013206  1.014313  1.020818  1.034989  2.710472\n",
            "2024-12-31  1.017141  1.028897  1.029321  1.050294  3.125257\n",
            "\n",
            "[3773 rows x 5 columns] Price          Close      High       Low      Open    Volume\n",
            "Ticker           EWK       EWK       EWK       EWK       EWK\n",
            "Date                                                        \n",
            "2010-01-05  0.012102  0.005992  0.012967  0.018306  0.370978\n",
            "2010-01-06  0.018154  0.008240  0.013730  0.013730 -0.782028\n",
            "2010-01-07  0.011347  0.003745  0.014493  0.019832 -0.860352\n",
            "2010-01-08  0.015885  0.008240  0.014493  0.014493  0.189132\n",
            "2010-01-11  0.023449  0.014981  0.028985  0.029748 -0.765027\n",
            "...              ...       ...       ...       ...       ...\n",
            "2024-12-24  1.126306  1.106746  1.141814  1.144147 -0.992410\n",
            "2024-12-26  1.134404  1.114765  1.145313  1.147646 -0.989071\n",
            "2024-12-27  1.129776  1.114765  1.144147  1.145313 -0.983303\n",
            "2024-12-30  1.110110  1.095290  1.119649  1.130148 -0.980874\n",
            "2024-12-31  1.115894  1.101018  1.126648  1.139480 -0.973892\n",
            "\n",
            "[3773 rows x 5 columns] Price          Close      High       Low      Open    Volume\n",
            "Ticker           SPY       SPY       SPY       SPY       SPY\n",
            "Date                                                        \n",
            "2010-01-05  0.002647  0.002557  0.012017  0.007920 -0.061917\n",
            "2010-01-06  0.003353  0.005292  0.017218  0.010234 -0.024131\n",
            "2010-01-07  0.007588  0.008290  0.014976  0.010056  0.102119\n",
            "2010-01-08  0.010941  0.010847  0.019281  0.013527  0.062703\n",
            "2010-01-11  0.012353  0.015345  0.024482  0.024117 -0.105670\n",
            "...              ...       ...       ...       ...       ...\n",
            "2024-12-24  5.989709  5.986476  6.034915  5.987992 -0.721214\n",
            "2024-12-26  5.990175  5.999720  6.065750  6.028321 -0.653460\n",
            "2024-12-27  5.916592  5.945115  5.979271  6.005343 -0.453785\n",
            "2024-12-30  5.837663  5.874941  5.904252  5.892210 -0.524326\n",
            "2024-12-31  5.812787  5.862161  5.904370  5.915891 -0.520342\n",
            "\n",
            "[3773 rows x 5 columns]\n"
          ]
        }
      ]
    },
    {
      "cell_type": "markdown",
      "source": [
        "# Apprentissage de plot"
      ],
      "metadata": {
        "id": "luAWIzxXvvoV"
      }
    },
    {
      "cell_type": "code",
      "source": [
        "#IMPORT\n",
        "import yfinance as yf\n",
        "import matplotlib.pyplot as plt\n",
        "import pandas as pd\n",
        "import numpy as np"
      ],
      "metadata": {
        "id": "SqOav8c_mUUp"
      },
      "execution_count": null,
      "outputs": []
    },
    {
      "cell_type": "code",
      "source": [
        "#Variables\n",
        "stock = yf.download(\"AAPL\", start=\"2020-01-01\", end=\"2025-01-01\")\n",
        "stock.head()"
      ],
      "metadata": {
        "colab": {
          "base_uri": "https://localhost:8080/",
          "height": 283
        },
        "id": "7VLhwlTkwQN_",
        "outputId": "123a079a-5c1a-4f67-d46e-bfdbb67eb5eb"
      },
      "execution_count": null,
      "outputs": [
        {
          "output_type": "stream",
          "name": "stderr",
          "text": [
            "\r[*********************100%***********************]  1 of 1 completed\n"
          ]
        },
        {
          "output_type": "execute_result",
          "data": {
            "text/plain": [
              "Price           Close       High        Low       Open     Volume\n",
              "Ticker           AAPL       AAPL       AAPL       AAPL       AAPL\n",
              "Date                                                             \n",
              "2020-01-02  72.716057  72.776583  71.466797  71.721004  135480400\n",
              "2020-01-03  72.009125  72.771752  71.783969  71.941336  146322800\n",
              "2020-01-06  72.582916  72.621654  70.876083  71.127873  118387200\n",
              "2020-01-07  72.241554  72.849231  72.021238  72.592601  108872000\n",
              "2020-01-08  73.403641  73.706271  71.943751  71.943751  132079200"
            ],
            "text/html": [
              "\n",
              "  <div id=\"df-82b01da9-a1e8-4026-b723-0281510a8615\" class=\"colab-df-container\">\n",
              "    <div>\n",
              "<style scoped>\n",
              "    .dataframe tbody tr th:only-of-type {\n",
              "        vertical-align: middle;\n",
              "    }\n",
              "\n",
              "    .dataframe tbody tr th {\n",
              "        vertical-align: top;\n",
              "    }\n",
              "\n",
              "    .dataframe thead tr th {\n",
              "        text-align: left;\n",
              "    }\n",
              "\n",
              "    .dataframe thead tr:last-of-type th {\n",
              "        text-align: right;\n",
              "    }\n",
              "</style>\n",
              "<table border=\"1\" class=\"dataframe\">\n",
              "  <thead>\n",
              "    <tr>\n",
              "      <th>Price</th>\n",
              "      <th>Close</th>\n",
              "      <th>High</th>\n",
              "      <th>Low</th>\n",
              "      <th>Open</th>\n",
              "      <th>Volume</th>\n",
              "    </tr>\n",
              "    <tr>\n",
              "      <th>Ticker</th>\n",
              "      <th>AAPL</th>\n",
              "      <th>AAPL</th>\n",
              "      <th>AAPL</th>\n",
              "      <th>AAPL</th>\n",
              "      <th>AAPL</th>\n",
              "    </tr>\n",
              "    <tr>\n",
              "      <th>Date</th>\n",
              "      <th></th>\n",
              "      <th></th>\n",
              "      <th></th>\n",
              "      <th></th>\n",
              "      <th></th>\n",
              "    </tr>\n",
              "  </thead>\n",
              "  <tbody>\n",
              "    <tr>\n",
              "      <th>2020-01-02</th>\n",
              "      <td>72.716057</td>\n",
              "      <td>72.776583</td>\n",
              "      <td>71.466797</td>\n",
              "      <td>71.721004</td>\n",
              "      <td>135480400</td>\n",
              "    </tr>\n",
              "    <tr>\n",
              "      <th>2020-01-03</th>\n",
              "      <td>72.009125</td>\n",
              "      <td>72.771752</td>\n",
              "      <td>71.783969</td>\n",
              "      <td>71.941336</td>\n",
              "      <td>146322800</td>\n",
              "    </tr>\n",
              "    <tr>\n",
              "      <th>2020-01-06</th>\n",
              "      <td>72.582916</td>\n",
              "      <td>72.621654</td>\n",
              "      <td>70.876083</td>\n",
              "      <td>71.127873</td>\n",
              "      <td>118387200</td>\n",
              "    </tr>\n",
              "    <tr>\n",
              "      <th>2020-01-07</th>\n",
              "      <td>72.241554</td>\n",
              "      <td>72.849231</td>\n",
              "      <td>72.021238</td>\n",
              "      <td>72.592601</td>\n",
              "      <td>108872000</td>\n",
              "    </tr>\n",
              "    <tr>\n",
              "      <th>2020-01-08</th>\n",
              "      <td>73.403641</td>\n",
              "      <td>73.706271</td>\n",
              "      <td>71.943751</td>\n",
              "      <td>71.943751</td>\n",
              "      <td>132079200</td>\n",
              "    </tr>\n",
              "  </tbody>\n",
              "</table>\n",
              "</div>\n",
              "    <div class=\"colab-df-buttons\">\n",
              "\n",
              "  <div class=\"colab-df-container\">\n",
              "    <button class=\"colab-df-convert\" onclick=\"convertToInteractive('df-82b01da9-a1e8-4026-b723-0281510a8615')\"\n",
              "            title=\"Convert this dataframe to an interactive table.\"\n",
              "            style=\"display:none;\">\n",
              "\n",
              "  <svg xmlns=\"http://www.w3.org/2000/svg\" height=\"24px\" viewBox=\"0 -960 960 960\">\n",
              "    <path d=\"M120-120v-720h720v720H120Zm60-500h600v-160H180v160Zm220 220h160v-160H400v160Zm0 220h160v-160H400v160ZM180-400h160v-160H180v160Zm440 0h160v-160H620v160ZM180-180h160v-160H180v160Zm440 0h160v-160H620v160Z\"/>\n",
              "  </svg>\n",
              "    </button>\n",
              "\n",
              "  <style>\n",
              "    .colab-df-container {\n",
              "      display:flex;\n",
              "      gap: 12px;\n",
              "    }\n",
              "\n",
              "    .colab-df-convert {\n",
              "      background-color: #E8F0FE;\n",
              "      border: none;\n",
              "      border-radius: 50%;\n",
              "      cursor: pointer;\n",
              "      display: none;\n",
              "      fill: #1967D2;\n",
              "      height: 32px;\n",
              "      padding: 0 0 0 0;\n",
              "      width: 32px;\n",
              "    }\n",
              "\n",
              "    .colab-df-convert:hover {\n",
              "      background-color: #E2EBFA;\n",
              "      box-shadow: 0px 1px 2px rgba(60, 64, 67, 0.3), 0px 1px 3px 1px rgba(60, 64, 67, 0.15);\n",
              "      fill: #174EA6;\n",
              "    }\n",
              "\n",
              "    .colab-df-buttons div {\n",
              "      margin-bottom: 4px;\n",
              "    }\n",
              "\n",
              "    [theme=dark] .colab-df-convert {\n",
              "      background-color: #3B4455;\n",
              "      fill: #D2E3FC;\n",
              "    }\n",
              "\n",
              "    [theme=dark] .colab-df-convert:hover {\n",
              "      background-color: #434B5C;\n",
              "      box-shadow: 0px 1px 3px 1px rgba(0, 0, 0, 0.15);\n",
              "      filter: drop-shadow(0px 1px 2px rgba(0, 0, 0, 0.3));\n",
              "      fill: #FFFFFF;\n",
              "    }\n",
              "  </style>\n",
              "\n",
              "    <script>\n",
              "      const buttonEl =\n",
              "        document.querySelector('#df-82b01da9-a1e8-4026-b723-0281510a8615 button.colab-df-convert');\n",
              "      buttonEl.style.display =\n",
              "        google.colab.kernel.accessAllowed ? 'block' : 'none';\n",
              "\n",
              "      async function convertToInteractive(key) {\n",
              "        const element = document.querySelector('#df-82b01da9-a1e8-4026-b723-0281510a8615');\n",
              "        const dataTable =\n",
              "          await google.colab.kernel.invokeFunction('convertToInteractive',\n",
              "                                                    [key], {});\n",
              "        if (!dataTable) return;\n",
              "\n",
              "        const docLinkHtml = 'Like what you see? Visit the ' +\n",
              "          '<a target=\"_blank\" href=https://colab.research.google.com/notebooks/data_table.ipynb>data table notebook</a>'\n",
              "          + ' to learn more about interactive tables.';\n",
              "        element.innerHTML = '';\n",
              "        dataTable['output_type'] = 'display_data';\n",
              "        await google.colab.output.renderOutput(dataTable, element);\n",
              "        const docLink = document.createElement('div');\n",
              "        docLink.innerHTML = docLinkHtml;\n",
              "        element.appendChild(docLink);\n",
              "      }\n",
              "    </script>\n",
              "  </div>\n",
              "\n",
              "\n",
              "<div id=\"df-8a538b9a-4255-4dcb-bd45-d13895502dfe\">\n",
              "  <button class=\"colab-df-quickchart\" onclick=\"quickchart('df-8a538b9a-4255-4dcb-bd45-d13895502dfe')\"\n",
              "            title=\"Suggest charts\"\n",
              "            style=\"display:none;\">\n",
              "\n",
              "<svg xmlns=\"http://www.w3.org/2000/svg\" height=\"24px\"viewBox=\"0 0 24 24\"\n",
              "     width=\"24px\">\n",
              "    <g>\n",
              "        <path d=\"M19 3H5c-1.1 0-2 .9-2 2v14c0 1.1.9 2 2 2h14c1.1 0 2-.9 2-2V5c0-1.1-.9-2-2-2zM9 17H7v-7h2v7zm4 0h-2V7h2v10zm4 0h-2v-4h2v4z\"/>\n",
              "    </g>\n",
              "</svg>\n",
              "  </button>\n",
              "\n",
              "<style>\n",
              "  .colab-df-quickchart {\n",
              "      --bg-color: #E8F0FE;\n",
              "      --fill-color: #1967D2;\n",
              "      --hover-bg-color: #E2EBFA;\n",
              "      --hover-fill-color: #174EA6;\n",
              "      --disabled-fill-color: #AAA;\n",
              "      --disabled-bg-color: #DDD;\n",
              "  }\n",
              "\n",
              "  [theme=dark] .colab-df-quickchart {\n",
              "      --bg-color: #3B4455;\n",
              "      --fill-color: #D2E3FC;\n",
              "      --hover-bg-color: #434B5C;\n",
              "      --hover-fill-color: #FFFFFF;\n",
              "      --disabled-bg-color: #3B4455;\n",
              "      --disabled-fill-color: #666;\n",
              "  }\n",
              "\n",
              "  .colab-df-quickchart {\n",
              "    background-color: var(--bg-color);\n",
              "    border: none;\n",
              "    border-radius: 50%;\n",
              "    cursor: pointer;\n",
              "    display: none;\n",
              "    fill: var(--fill-color);\n",
              "    height: 32px;\n",
              "    padding: 0;\n",
              "    width: 32px;\n",
              "  }\n",
              "\n",
              "  .colab-df-quickchart:hover {\n",
              "    background-color: var(--hover-bg-color);\n",
              "    box-shadow: 0 1px 2px rgba(60, 64, 67, 0.3), 0 1px 3px 1px rgba(60, 64, 67, 0.15);\n",
              "    fill: var(--button-hover-fill-color);\n",
              "  }\n",
              "\n",
              "  .colab-df-quickchart-complete:disabled,\n",
              "  .colab-df-quickchart-complete:disabled:hover {\n",
              "    background-color: var(--disabled-bg-color);\n",
              "    fill: var(--disabled-fill-color);\n",
              "    box-shadow: none;\n",
              "  }\n",
              "\n",
              "  .colab-df-spinner {\n",
              "    border: 2px solid var(--fill-color);\n",
              "    border-color: transparent;\n",
              "    border-bottom-color: var(--fill-color);\n",
              "    animation:\n",
              "      spin 1s steps(1) infinite;\n",
              "  }\n",
              "\n",
              "  @keyframes spin {\n",
              "    0% {\n",
              "      border-color: transparent;\n",
              "      border-bottom-color: var(--fill-color);\n",
              "      border-left-color: var(--fill-color);\n",
              "    }\n",
              "    20% {\n",
              "      border-color: transparent;\n",
              "      border-left-color: var(--fill-color);\n",
              "      border-top-color: var(--fill-color);\n",
              "    }\n",
              "    30% {\n",
              "      border-color: transparent;\n",
              "      border-left-color: var(--fill-color);\n",
              "      border-top-color: var(--fill-color);\n",
              "      border-right-color: var(--fill-color);\n",
              "    }\n",
              "    40% {\n",
              "      border-color: transparent;\n",
              "      border-right-color: var(--fill-color);\n",
              "      border-top-color: var(--fill-color);\n",
              "    }\n",
              "    60% {\n",
              "      border-color: transparent;\n",
              "      border-right-color: var(--fill-color);\n",
              "    }\n",
              "    80% {\n",
              "      border-color: transparent;\n",
              "      border-right-color: var(--fill-color);\n",
              "      border-bottom-color: var(--fill-color);\n",
              "    }\n",
              "    90% {\n",
              "      border-color: transparent;\n",
              "      border-bottom-color: var(--fill-color);\n",
              "    }\n",
              "  }\n",
              "</style>\n",
              "\n",
              "  <script>\n",
              "    async function quickchart(key) {\n",
              "      const quickchartButtonEl =\n",
              "        document.querySelector('#' + key + ' button');\n",
              "      quickchartButtonEl.disabled = true;  // To prevent multiple clicks.\n",
              "      quickchartButtonEl.classList.add('colab-df-spinner');\n",
              "      try {\n",
              "        const charts = await google.colab.kernel.invokeFunction(\n",
              "            'suggestCharts', [key], {});\n",
              "      } catch (error) {\n",
              "        console.error('Error during call to suggestCharts:', error);\n",
              "      }\n",
              "      quickchartButtonEl.classList.remove('colab-df-spinner');\n",
              "      quickchartButtonEl.classList.add('colab-df-quickchart-complete');\n",
              "    }\n",
              "    (() => {\n",
              "      let quickchartButtonEl =\n",
              "        document.querySelector('#df-8a538b9a-4255-4dcb-bd45-d13895502dfe button');\n",
              "      quickchartButtonEl.style.display =\n",
              "        google.colab.kernel.accessAllowed ? 'block' : 'none';\n",
              "    })();\n",
              "  </script>\n",
              "</div>\n",
              "\n",
              "    </div>\n",
              "  </div>\n"
            ],
            "application/vnd.google.colaboratory.intrinsic+json": {
              "type": "dataframe",
              "variable_name": "stock",
              "summary": "{\n  \"name\": \"stock\",\n  \"rows\": 1258,\n  \"fields\": [\n    {\n      \"column\": [\n        \"Date\",\n        \"\"\n      ],\n      \"properties\": {\n        \"dtype\": \"date\",\n        \"min\": \"2020-01-02 00:00:00\",\n        \"max\": \"2024-12-31 00:00:00\",\n        \"num_unique_values\": 1258,\n        \"samples\": [\n          \"2022-03-24 00:00:00\",\n          \"2020-05-28 00:00:00\",\n          \"2020-03-17 00:00:00\"\n        ],\n        \"semantic_type\": \"\",\n        \"description\": \"\"\n      }\n    },\n    {\n      \"column\": [\n        \"Close\",\n        \"AAPL\"\n      ],\n      \"properties\": {\n        \"dtype\": \"number\",\n        \"std\": 42.07313475649363,\n        \"min\": 54.449886322021484,\n        \"max\": 258.7355041503906,\n        \"num_unique_values\": 1243,\n        \"samples\": [\n          175.2853240966797,\n          182.53407287597656,\n          153.27072143554688\n        ],\n        \"semantic_type\": \"\",\n        \"description\": \"\"\n      }\n    },\n    {\n      \"column\": [\n        \"High\",\n        \"AAPL\"\n      ],\n      \"properties\": {\n        \"dtype\": \"number\",\n        \"std\": 42.214240514902826,\n        \"min\": 55.452151782075894,\n        \"max\": 259.81433504408284,\n        \"num_unique_values\": 1258,\n        \"samples\": [\n          171.363294359729,\n          78.70457206303743,\n          62.5165408014644\n        ],\n        \"semantic_type\": \"\",\n        \"description\": \"\"\n      }\n    },\n    {\n      \"column\": [\n        \"Low\",\n        \"AAPL\"\n      ],\n      \"properties\": {\n        \"dtype\": \"number\",\n        \"std\": 41.84926204494953,\n        \"min\": 51.59598260057971,\n        \"max\": 257.34704665632455,\n        \"num_unique_values\": 1258,\n        \"samples\": [\n          167.49596638171184,\n          76.80411908559893,\n          57.854678750743666\n        ],\n        \"semantic_type\": \"\",\n        \"description\": \"\"\n      }\n    },\n    {\n      \"column\": [\n        \"Open\",\n        \"AAPL\"\n      ],\n      \"properties\": {\n        \"dtype\": \"number\",\n        \"std\": 42.01664384765403,\n        \"min\": 55.35022704591594,\n        \"max\": 257.90642916266114,\n        \"num_unique_values\": 1258,\n        \"samples\": [\n          168.33240391380366,\n          77.0815181781685,\n          60.06548484229005\n        ],\n        \"semantic_type\": \"\",\n        \"description\": \"\"\n      }\n    },\n    {\n      \"column\": [\n        \"Volume\",\n        \"AAPL\"\n      ],\n      \"properties\": {\n        \"dtype\": \"number\",\n        \"std\": 53254598,\n        \"min\": 23234700,\n        \"max\": 426510000,\n        \"num_unique_values\": 1256,\n        \"samples\": [\n          64838200,\n          133560800,\n          324056000\n        ],\n        \"semantic_type\": \"\",\n        \"description\": \"\"\n      }\n    }\n  ]\n}"
            }
          },
          "metadata": {},
          "execution_count": 58
        }
      ]
    },
    {
      "cell_type": "code",
      "source": [
        "#Plot\n",
        "plt.figure(figsize=(12, 6))\n",
        "plt.plot(stock['Close'], label='Prix de Fermeture')\n",
        "plt.xlabel('Date')\n",
        "plt.ylabel('Prix en $')\n",
        "plt.title('Prix de l\\'Action AAPL dans le temps')\n",
        "plt.legend()\n",
        "plt.show()"
      ],
      "metadata": {
        "colab": {
          "base_uri": "https://localhost:8080/",
          "height": 564
        },
        "id": "Zucv0JfEwan7",
        "outputId": "54282d4f-b0a1-49a1-d717-32363d88dfbd"
      },
      "execution_count": null,
      "outputs": [
        {
          "output_type": "display_data",
          "data": {
            "text/plain": [
              "<Figure size 1200x600 with 1 Axes>"
            ],
            "image/png": "[encoded data removed]"
          },
          "metadata": {}
        }
      ]
    }
  ]
}